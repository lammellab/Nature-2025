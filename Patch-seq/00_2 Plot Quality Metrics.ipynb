{
 "cells": [
  {
   "cell_type": "code",
   "execution_count": 1,
   "metadata": {},
   "outputs": [],
   "source": [
    "import numpy as np\n",
    "import pandas as pd\n",
    "import matplotlib.pyplot as plt\n",
    "\n",
    "from Modules import plot_ax_violins"
   ]
  },
  {
   "cell_type": "code",
   "execution_count": 2,
   "metadata": {},
   "outputs": [],
   "source": [
    "def read_dataset(dataset):\n",
    "    fname = 'References/%s-sequence.tsv' % dataset\n",
    "    df = pd.read_csv(fname, sep='\\t', header=0, index_col=[0,1])\n",
    "    \n",
    "    return df\n",
    "\n",
    "def get_color():\n",
    "    nums = [np.random.randint(0,256), np.random.randint(0,256), np.random.randint(0,256)]\n",
    "    vals = ['%02s' % hex(num)[2:].upper() for num in nums]\n",
    "    color = '#' + ''.join(vals).replace(' ', '0')\n",
    "    \n",
    "    return color\n",
    "\n",
    "def plot_violin(fig, top, df_stat, violin_args={}):\n",
    "    \n",
    "    df_cell = pd.DataFrame('', index=sorted(set(df_stat.index.get_level_values('CellType'))), columns=['Color'])\n",
    "    for celltype in df_cell.index:\n",
    "        df_cell.loc[celltype, 'Color'] = get_color()\n",
    "    df_violin = df_stat.copy()\n",
    "    df_violin.index = df_violin.index.get_level_values('CellType')\n",
    "    \n",
    "    args = (fig, top, df_violin, df_cell)\n",
    "    plot_ax_violins.plot_dataframe(*args, **violin_args)\n",
    "    \n",
    "    return\n",
    "\n",
    "def plot_dataset(df, top, fig):\n",
    "    violin_args = {'left':.1,\n",
    "                   'right':.9,\n",
    "                   'row_count':5,\n",
    "                   'rotation':90,\n",
    "                   'ticklabels':False,\n",
    "                   'limits':[(None,None),\n",
    "                             (None,None),\n",
    "                             (0,100),\n",
    "                             (None,None),\n",
    "                             (None,None)\n",
    "                            ],\n",
    "                   'show_violin':True,\n",
    "                   'show_error':False,\n",
    "                   'dh':.08\n",
    "                  }\n",
    "\n",
    "    plot_violin(fig, top, df, violin_args=violin_args)\n",
    "    \n",
    "    return"
   ]
  },
  {
   "cell_type": "code",
   "execution_count": 3,
   "metadata": {},
   "outputs": [
    {
     "data": {
      "image/png": "[encoded data removed]",
      "text/plain": [
       "<Figure size 612x792 with 5 Axes>"
      ]
     },
     "metadata": {
      "needs_background": "light"
     },
     "output_type": "display_data"
    }
   ],
   "source": [
    "fig = plt.figure(figsize=(8.5,11))\n",
    "\n",
    "dataset = 'Lab_Amanda'\n",
    "df = read_dataset(dataset)\n",
    "plot_dataset(df, 0.9, fig)\n",
    "fig.savefig('Plots/Alignment_Stats_%s.pdf' % dataset)\n",
    "\n",
    "plt.show()"
   ]
  },
  {
   "cell_type": "code",
   "execution_count": null,
   "metadata": {},
   "outputs": [],
   "source": []
  }
 ],
 "metadata": {
  "kernelspec": {
   "display_name": "Python 3",
   "language": "python",
   "name": "python3"
  },
  "language_info": {
   "codemirror_mode": {
    "name": "ipython",
    "version": 3
   },
   "file_extension": ".py",
   "mimetype": "text/x-python",
   "name": "python",
   "nbconvert_exporter": "python",
   "pygments_lexer": "ipython3",
   "version": "3.6.7"
  }
 },
 "nbformat": 4,
 "nbformat_minor": 2
}
